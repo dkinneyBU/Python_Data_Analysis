{
 "cells": [
  {
   "cell_type": "markdown",
   "metadata": {},
   "source": [
    "## Measure of Spread"
   ]
  },
  {
   "cell_type": "code",
   "execution_count": 1,
   "metadata": {},
   "outputs": [],
   "source": [
    "import numpy as np"
   ]
  },
  {
   "cell_type": "code",
   "execution_count": 2,
   "metadata": {},
   "outputs": [
    {
     "data": {
      "text/plain": [
       "array([ 0.28976024, -0.33188449, -0.06638899,  1.12799113,  0.09423303,\n",
       "       -0.177492  ,  1.13401529,  0.12721736,  0.25672569, -0.61547632,\n",
       "       -1.22491356, -0.62381438,  0.2180884 ,  0.02225707,  0.99094723,\n",
       "        1.33302141, -0.25198879,  0.63827914,  0.04250055,  0.65150385,\n",
       "        0.64692197, -0.5886668 , -0.96306468, -0.24520412, -1.21773593,\n",
       "        0.69992698,  0.96622956,  0.5385316 , -0.28755922, -0.64713267])"
      ]
     },
     "execution_count": 2,
     "metadata": {},
     "output_type": "execute_result"
    }
   ],
   "source": [
    "n = np.random.randn(30)\n",
    "n"
   ]
  },
  {
   "cell_type": "code",
   "execution_count": 3,
   "metadata": {},
   "outputs": [
    {
     "data": {
      "text/plain": [
       "2.557934964020549"
      ]
     },
     "execution_count": 3,
     "metadata": {},
     "output_type": "execute_result"
    }
   ],
   "source": [
    "# Range:\n",
    "np.max(n) - np.min(n)"
   ]
  },
  {
   "cell_type": "markdown",
   "metadata": {},
   "source": [
    "#### Quartile:\n",
    "Quartiles divide a rank-ordered dataset into four equal parts."
   ]
  },
  {
   "cell_type": "code",
   "execution_count": 4,
   "metadata": {},
   "outputs": [
    {
     "name": "stdout",
     "output_type": "stream",
     "text": [
      "-0.3208031758320948\n",
      "0.06836678961324431\n",
      "0.6447612653921476\n"
     ]
    }
   ],
   "source": [
    "# First quartile\n",
    "Q1 = np.percentile(n, 25)\n",
    "print(Q1)\n",
    "\n",
    "# Second quartile\n",
    "Q2 = np.percentile(n, 50)\n",
    "print(Q2)\n",
    "\n",
    "# Third quartile\n",
    "Q3 = np.percentile(n, 75)\n",
    "print(Q3)"
   ]
  },
  {
   "cell_type": "markdown",
   "metadata": {},
   "source": [
    "#### Interquartile Range\n",
    "IQR = third quartile - first quartile"
   ]
  },
  {
   "cell_type": "code",
   "execution_count": 5,
   "metadata": {},
   "outputs": [
    {
     "data": {
      "text/plain": [
       "0.9655644412242423"
      ]
     },
     "execution_count": 5,
     "metadata": {},
     "output_type": "execute_result"
    }
   ],
   "source": [
    "IQR = Q3 - Q1\n",
    "IQR"
   ]
  },
  {
   "cell_type": "markdown",
   "metadata": {},
   "source": [
    "### Variance:\n",
    "How spread apart (far way) a value is from the mean\n",
    "\n",
    "Sample: \n",
    "\\begin{equation*}\n",
    "\\sqrt {\\frac{1}{N}\\sum\\limits_{i = 1}^N {\\left( {x_i - \\bar x} \\right)^2 } }\n",
    "\\end{equation*}"
   ]
  },
  {
   "cell_type": "code",
   "execution_count": 6,
   "metadata": {},
   "outputs": [
    {
     "data": {
      "text/plain": [
       "array([ 0.75551131,  0.59265912, -1.91922438, -0.22981292,  0.48733318,\n",
       "        0.26453054,  0.73563524, -0.9989271 ,  0.71225647,  0.42485062,\n",
       "       -0.05289441,  0.80892451, -1.39361174,  0.32872987, -0.03470946,\n",
       "        0.84101528,  0.22953765,  0.644797  ,  1.11751008,  1.29365814,\n",
       "       -0.24786135,  0.77363348, -0.10865171, -0.17117418, -1.06828514,\n",
       "        1.36317823,  0.57677699,  0.83714154, -0.04052518, -0.42111603,\n",
       "       -0.31350675,  1.05402601,  0.02091104, -0.98191747, -0.05338282,\n",
       "        0.6343163 , -0.29193797, -0.71788196,  0.17364228,  0.71636875,\n",
       "        0.19130144,  1.26405957, -0.7003957 , -0.23634776, -0.50270814,\n",
       "       -0.97319025, -1.26887563,  0.42854452, -0.90597232,  0.17138582,\n",
       "        1.16906875, -1.55543122,  0.26889988,  0.89776225,  0.18638278,\n",
       "       -1.28195289,  0.82831813, -0.52734274, -2.36854185, -0.48723764,\n",
       "        0.38653344,  0.62839273, -0.056275  , -1.37592529,  0.82334222,\n",
       "       -1.47930484, -0.46184585,  0.28026296,  0.4422533 ,  0.7226451 ,\n",
       "        0.93831493, -0.69212479,  0.61364025,  0.43208214,  0.12306701,\n",
       "        2.64665651, -0.82741667, -1.9051949 , -0.36240766, -0.02990038,\n",
       "        0.79669236, -0.35572137,  0.50477321,  0.73799172,  0.70302028,\n",
       "        0.3667084 , -0.09258177,  0.00730789,  0.04146622,  0.49871891,\n",
       "        0.34252735,  0.69333902, -0.23289336,  1.31509732, -0.12835316,\n",
       "       -0.59733614,  1.6985209 ,  0.24259517, -0.59691792,  0.16709242])"
      ]
     },
     "execution_count": 6,
     "metadata": {},
     "output_type": "execute_result"
    }
   ],
   "source": [
    "population = np.random.randn(100)\n",
    "population"
   ]
  },
  {
   "cell_type": "code",
   "execution_count": 7,
   "metadata": {},
   "outputs": [
    {
     "data": {
      "text/plain": [
       "array([-0.36240766,  0.42485062,  0.26453054, -1.47930484, -0.59691792,\n",
       "       -0.97319025, -0.42111603,  0.82334222,  0.28026296, -0.59691792,\n",
       "       -2.36854185,  0.73799172, -0.29193797,  0.42485062, -1.26887563,\n",
       "        2.64665651,  1.36317823,  0.48733318,  0.50477321, -0.71788196])"
      ]
     },
     "execution_count": 7,
     "metadata": {},
     "output_type": "execute_result"
    }
   ],
   "source": [
    "sample = np.random.choice(population, 20)\n",
    "sample"
   ]
  },
  {
   "cell_type": "code",
   "execution_count": 8,
   "metadata": {},
   "outputs": [
    {
     "name": "stdout",
     "output_type": "stream",
     "text": [
      "0.6942745319738198\n",
      "1.1501047689597725\n"
     ]
    }
   ],
   "source": [
    "print(np.var(population))\n",
    "print(np.var(sample))"
   ]
  },
  {
   "cell_type": "markdown",
   "metadata": {},
   "source": [
    "### Standard Deviation:\n",
    "The square root of the variance. While `var` gives a rough idea of spread, standard deviation is more concrete, giving exact distances from the mean."
   ]
  },
  {
   "cell_type": "code",
   "execution_count": 9,
   "metadata": {},
   "outputs": [
    {
     "name": "stdout",
     "output_type": "stream",
     "text": [
      "0.8332313796142221\n",
      "1.0724293771432096\n"
     ]
    }
   ],
   "source": [
    "print(np.std(population))\n",
    "print(np.std(sample))"
   ]
  }
 ],
 "metadata": {
  "kernelspec": {
   "display_name": "Python 3",
   "language": "python",
   "name": "python3"
  },
  "language_info": {
   "codemirror_mode": {
    "name": "ipython",
    "version": 3
   },
   "file_extension": ".py",
   "mimetype": "text/x-python",
   "name": "python",
   "nbconvert_exporter": "python",
   "pygments_lexer": "ipython3",
   "version": "3.7.4"
  }
 },
 "nbformat": 4,
 "nbformat_minor": 4
}
