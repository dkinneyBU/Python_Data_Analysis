{
 "cells": [
  {
   "cell_type": "markdown",
   "metadata": {},
   "source": [
    "## pandas: Data Exploration and Cleaning\n",
    "\n",
    "### Descriptive and summary statistics\n",
    "\n",
    "Method | Description\n",
    "-------|------------ \n",
    "count | Number of non-NA values\n",
    "describe | Compute set of summary statistics for Series or each DataFrame column\n",
    "min, max | Compute minimum and maximum values\n",
    "argmin, argmax | Compute index locations (integers) at which minimum or maximum value obtained, respectively\n",
    "idxmin, idxmax | Compute index values at which minimum or maximum value obtained, respectively\n",
    "quantile |Compute sample quantile ranging from 0 to 1\n",
    "sum | Sum of values\n",
    "mean | Mean of values\n",
    "median | Arithmetic median (50% quantile) of values\n",
    "mad | Mean absolute deviation from mean value\n",
    "var | Sample variance of values\n",
    "std | Sample standard deviation of values\n",
    "skew | Sample skewness (3rd moment) of values\n",
    "kurt | Sample kurtosis (4th moment) of values\n",
    "cumsum | Cumulative sum of values\n",
    "cummin, cummax | Cumulative minimum or maximum of values, respectively\n",
    "cumprod | Cumulative product of values\n",
    "diff | Compute 1st arithmetic difference (useful for time series)\n",
    "pct_change | Compute percent changes"
   ]
  },
  {
   "cell_type": "markdown",
   "metadata": {},
   "source": [
    "### Unique, value counts, and binning methods\n",
    "Method | Description\n",
    "-------|-----------\n",
    "isin | Compute boolean array indicating whether each Series value is contained in the passed sequence of values.\n",
    "unique | Compute array of unique values in a Series, returned in the order observed.\n",
    "value_counts | Return a Series containing unique values as its index and frequencies as its values, ordered count in descending order."
   ]
  },
  {
   "cell_type": "markdown",
   "metadata": {},
   "source": [
    "### Correlation and Covariance\n",
    "\n",
    "The `corr` method of Series computes the correlation of the overlapping, non-NA, aligned-by-index values in two Series. Relatedly, `cov` computes the covariance.\n",
    "\n",
    "DataFrame’s `corr` and `cov` methods, on the other hand, return a full correlation or\n",
    "covariance matrix as a DataFrame, respectively.\n",
    "\n",
    "Using DataFrame’s `corrwith` method, you can compute pairwise correlations between a DataFrame’s columns or rows with another Series or DataFrame."
   ]
  },
  {
   "cell_type": "markdown",
   "metadata": {},
   "source": [
    "### NA handling methods\n",
    "Argument | Description\n",
    "---------|------------\n",
    "dropna | Filter axis labels based on whether values for each label have missing data, with varying thresholds for how much missing data to tolerate.\n",
    "fillna | Fill in missing data with some value or using an interpolation method such as 'ffill' or 'bfill'.\n",
    "isnull | Return like-type object containing boolean values indicating which values are missing / NA.\n",
    "notnull | Negation of isnull.\n",
    "\n",
    "#### Filtering Out Missing Data\n",
    "\n",
    "You have a number of options for filtering out missing data. While doing it by hand is always an option, `dropna()` can be very helpful. On a Series, it returns the Series with only the non-null data and index values.\n",
    "\n",
    "With DataFrame objects, these are a bit more complex. You may want to drop rows or columns which are all NA or just those containing any NAs. `dropna` by default drops *any row containing a missing value*. However, passing `how='all'` will only drop rows that are all NA. Dropping columns in the same way is only a matter of passing `axis=1`.\n",
    "\n",
    "A related way to filter out DataFrame rows tends to concern time series data. Suppose you want to keep only rows containing a certain number of observations. You can indicate this with the `thresh` argument: `df.dropna(thresh=[some threshold value]`.\n",
    "\n",
    "#### Filling In Missing Data\n",
    "\n",
    "Calling `fillna` with a constant replaces missing values with that value: `df.fillna(0)`. Calling `fillna` with a dict you can use a different fill value for each column:\n",
    "    `df.fillna({1: 0.5, 3: -1})`. `fillna` returns a new object, but you can modify the existing object in place: `df.fillna(0, inplace=True)`  \n",
    "\n",
    "With `fillna` you can do lots of other things with a little creativity. For example, you\n",
    "might pass the mean or median value of a Series: `data.fillna(data.mean())`\n",
    "\n",
    "**fillna function arguments**\n",
    "\n",
    "Argument | Description\n",
    "---------|------------\n",
    "value | Scalar value or dict-like object to use to fill missing values\n",
    "method | Interpolation, by default 'ffill' if function called with no other arguments\n",
    "axis | Axis to fill on, default axis=0\n",
    "inplace | Modify the calling object without producing a copy\n",
    "limit | For forward and backward filling, maximum number of consecutive periods to fill\n"
   ]
  },
  {
   "cell_type": "markdown",
   "metadata": {},
   "source": [
    "*******************************************\n",
    "Source:\n",
    "\n",
    "**Python for Data Analysis**  \n",
    "by Wes McKinney  \n",
    "Copyright © 2013 Wes McKinney. All rights reserved.  \n",
    "Printed in the United States of America.  \n",
    "Published by O’Reilly Media, Inc., 1005 Gravenstein Highway North, Sebastopol, CA 95472."
   ]
  }
 ],
 "metadata": {
  "kernelspec": {
   "display_name": "Python 3",
   "language": "python",
   "name": "python3"
  },
  "language_info": {
   "codemirror_mode": {
    "name": "ipython",
    "version": 3
   },
   "file_extension": ".py",
   "mimetype": "text/x-python",
   "name": "python",
   "nbconvert_exporter": "python",
   "pygments_lexer": "ipython3",
   "version": "3.7.4"
  }
 },
 "nbformat": 4,
 "nbformat_minor": 4
}
